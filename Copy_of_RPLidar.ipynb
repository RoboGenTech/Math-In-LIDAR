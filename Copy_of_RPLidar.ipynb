{
  "nbformat": 4,
  "nbformat_minor": 0,
  "metadata": {
    "colab": {
      "name": "Copy of RPLidar.ipynb",
      "provenance": [],
      "collapsed_sections": []
    },
    "kernelspec": {
      "name": "python3",
      "display_name": "Python 3"
    }
  },
  "cells": [
    {
      "cell_type": "code",
      "metadata": {
        "id": "N0r-qCK4KAQe"
      },
      "source": [
        "from google.colab import drive\n",
        "drive.mount('/content/drive/')\n",
        "from __future__ import print_function"
      ],
      "execution_count": null,
      "outputs": []
    },
    {
      "cell_type": "code",
      "metadata": {
        "id": "HKO8gpK7520H"
      },
      "source": [
        "import pandas as pd \n",
        "\n",
        "path = '/content/drive/My Drive/Datasets/Data/'\n",
        "\n",
        "first = pd.read_csv(path+\"Rpl3.csv\", sep=\",\", header=None, names=['x', 'y'])\n",
        "second = pd.read_csv(path+\"Rpl3T.csv\", sep=\",\", header=None, names=['x', 'y'])\n",
        "first['z'] = 0\n",
        "second['z'] = 0\n",
        "\n",
        "third = pd.read_csv(path+\"Rpl4.csv\", sep=\",\", header=None, names=['x', 'y'])\n",
        "fourth = pd.read_csv(path+\"Rpl4T.csv\", sep=\",\", header=None, names=['x', 'y'])\n",
        "third['z'] = 0\n",
        "fourth['z'] = 0\n",
        "\n",
        "fifth = pd.read_csv(path+\"Rpl5.csv\", sep=\",\", header=None, names=['x', 'y'])\n",
        "sixth = pd.read_csv(path+\"Rpl5T.csv\", sep=\",\", header=None, names=['x', 'y'])\n",
        "fifth['z'] = 0\n",
        "sixth['z'] = 0\n"
      ],
      "execution_count": null,
      "outputs": []
    },
    {
      "cell_type": "code",
      "metadata": {
        "id": "bWx2QUzw7Gn4",
        "colab": {
          "base_uri": "https://localhost:8080/",
          "height": 204
        },
        "outputId": "24a6a333-70bc-4b72-9536-4f309616ca2b"
      },
      "source": [
        "sixth.tail()\n"
      ],
      "execution_count": null,
      "outputs": [
        {
          "output_type": "execute_result",
          "data": {
            "text/html": [
              "<div>\n",
              "<style scoped>\n",
              "    .dataframe tbody tr th:only-of-type {\n",
              "        vertical-align: middle;\n",
              "    }\n",
              "\n",
              "    .dataframe tbody tr th {\n",
              "        vertical-align: top;\n",
              "    }\n",
              "\n",
              "    .dataframe thead th {\n",
              "        text-align: right;\n",
              "    }\n",
              "</style>\n",
              "<table border=\"1\" class=\"dataframe\">\n",
              "  <thead>\n",
              "    <tr style=\"text-align: right;\">\n",
              "      <th></th>\n",
              "      <th>x</th>\n",
              "      <th>y</th>\n",
              "      <th>z</th>\n",
              "    </tr>\n",
              "  </thead>\n",
              "  <tbody>\n",
              "    <tr>\n",
              "      <th>290</th>\n",
              "      <td>-546.803415</td>\n",
              "      <td>199.323920</td>\n",
              "      <td>0</td>\n",
              "    </tr>\n",
              "    <tr>\n",
              "      <th>291</th>\n",
              "      <td>-522.317311</td>\n",
              "      <td>204.708639</td>\n",
              "      <td>0</td>\n",
              "    </tr>\n",
              "    <tr>\n",
              "      <th>292</th>\n",
              "      <td>-362.758596</td>\n",
              "      <td>173.234526</td>\n",
              "      <td>0</td>\n",
              "    </tr>\n",
              "    <tr>\n",
              "      <th>293</th>\n",
              "      <td>-364.116260</td>\n",
              "      <td>177.325545</td>\n",
              "      <td>0</td>\n",
              "    </tr>\n",
              "    <tr>\n",
              "      <th>294</th>\n",
              "      <td>-361.071458</td>\n",
              "      <td>181.227488</td>\n",
              "      <td>0</td>\n",
              "    </tr>\n",
              "  </tbody>\n",
              "</table>\n",
              "</div>"
            ],
            "text/plain": [
              "              x           y  z\n",
              "290 -546.803415  199.323920  0\n",
              "291 -522.317311  204.708639  0\n",
              "292 -362.758596  173.234526  0\n",
              "293 -364.116260  177.325545  0\n",
              "294 -361.071458  181.227488  0"
            ]
          },
          "metadata": {
            "tags": []
          },
          "execution_count": 29
        }
      ]
    },
    {
      "cell_type": "code",
      "metadata": {
        "id": "iHgrv8RoKNwf",
        "colab": {
          "base_uri": "https://localhost:8080/",
          "height": 213
        },
        "outputId": "13aeb2e2-8f16-4ba6-f28a-b4666e8082e8"
      },
      "source": [
        "!ls -l \"/content/drive/My Drive/Datasets/Data\""
      ],
      "execution_count": null,
      "outputs": [
        {
          "output_type": "stream",
          "text": [
            "total 95\n",
            "-rw------- 1 root root  7451 Mar 29 15:43 Rpl1.csv\n",
            "-rw------- 1 root root  7447 Mar 29 15:43 Rpl1T.csv\n",
            "-rw------- 1 root root  6974 Mar 29 15:43 Rpl2.csv\n",
            "-rw------- 1 root root  6993 Mar 29 15:43 Rpl2T.csv\n",
            "-rw------- 1 root root 11462 Mar 31 17:33 Rpl3.csv\n",
            "-rw------- 1 root root 11648 Mar 31 17:33 Rpl3T.csv\n",
            "-rw------- 1 root root 10759 Mar 31 19:51 Rpl4.csv\n",
            "-rw------- 1 root root 10723 Mar 31 19:48 Rpl4T.csv\n",
            "-rw------- 1 root root 10460 Mar 31 20:04 Rpl5.csv\n",
            "-rw------- 1 root root 10666 Mar 31 20:06 Rpl5T.csv\n"
          ],
          "name": "stdout"
        }
      ]
    },
    {
      "cell_type": "code",
      "metadata": {
        "id": "UUb6cLtB_iru"
      },
      "source": [
        "import numpy as np\n",
        "Am = np.matrix(first.to_numpy())\n",
        "Bm = np.matrix(second.to_numpy())\n",
        "\n",
        "Cm = np.matrix(third.to_numpy())\n",
        "Dm = np.matrix(fourth.to_numpy())\n",
        "\n",
        "Em = np.matrix(fifth.to_numpy())\n",
        "Fm = np.matrix(sixth.to_numpy())"
      ],
      "execution_count": null,
      "outputs": []
    },
    {
      "cell_type": "code",
      "metadata": {
        "id": "YSQs8Gow91mQ",
        "colab": {
          "base_uri": "https://localhost:8080/",
          "height": 35
        },
        "outputId": "ded4c717-ac49-4838-be20-c3c61fd1e28a"
      },
      "source": [
        "Em.shape"
      ],
      "execution_count": null,
      "outputs": [
        {
          "output_type": "execute_result",
          "data": {
            "text/plain": [
              "(295, 3)"
            ]
          },
          "metadata": {
            "tags": []
          },
          "execution_count": 5
        }
      ]
    },
    {
      "cell_type": "code",
      "metadata": {
        "id": "F9dG_Patifib",
        "colab": {
          "base_uri": "https://localhost:8080/",
          "height": 332
        },
        "outputId": "069d7eac-5736-4f27-ed6b-11a739e0b29f"
      },
      "source": [
        "import matplotlib.pylab as plt\n",
        "\n",
        "fig, (ax2) = plt.subplots(1, gridspec_kw={'hspace': 1})\n",
        "fig.suptitle(' Linear Transformations ')\n",
        "'''\n",
        "ax1.set_title( '- Rd1 Rotate')\n",
        "ax1.plot(Am[:,0],Am[:,1],'r+')\n",
        "ax1.plot(Bm[:,0],Bm[:,1],'b+')\n",
        "'''\n",
        "ax2.set_title(' - Scale ')\n",
        "ax2.plot(Cm[:,0],Cm[:,1],'r+')\n",
        "ax2.plot(Dm[:,0],Dm[:,1],'b+')\n",
        "'''\n",
        "#ax3.set_title(' - Rotate(improved data) ')\n",
        "plt.plot(Am[:,0],Am[:,1],'r+')\n",
        "plt.plot(Bm[:,0],Bm[:,1],'b+')\n",
        "'''"
      ],
      "execution_count": null,
      "outputs": [
        {
          "output_type": "execute_result",
          "data": {
            "text/plain": [
              "\"\\n#ax3.set_title(' - Rotate(improved data) ')\\nplt.plot(Am[:,0],Am[:,1],'r+')\\nplt.plot(Bm[:,0],Bm[:,1],'b+')\\n\""
            ]
          },
          "metadata": {
            "tags": []
          },
          "execution_count": 6
        },
        {
          "output_type": "display_data",
          "data": {
            "image/png": "[encoded data removed]",
            "text/plain": [
              "<Figure size 432x288 with 1 Axes>"
            ]
          },
          "metadata": {
            "tags": []
          }
        }
      ]
    },
    {
      "cell_type": "markdown",
      "metadata": {
        "id": "uzWuD7VITgcw"
      },
      "source": [
        "http://nghiaho.com/?page_id=671\n",
        "\n",
        "https://towardsdatascience.com/understanding-singular-value-decomposition-and-its-application-in-data-science-388a54be95d"
      ]
    },
    {
      "cell_type": "code",
      "metadata": {
        "id": "bozQi05HK9y7"
      },
      "source": [
        "# Steps Involve accumulating a matrix, called H, and using SVD to find the rotation as follows:\n",
        "# H = (A - centroid_A)(B - centroid_B)(transposed)\n",
        "# [U,S,V] = SVD(H) \n",
        "# R = VU(transposed)\n",
        "\n",
        "from math import sqrt\n",
        "\n",
        "# Input: expects 3xN matrix of points\n",
        "# Returns R,t\n",
        "# R = 3x3 rotation matrix\n",
        "# t = 3x1 column vector\n",
        "\n",
        "def rigid_transform_3D(A, B):\n",
        "    assert len(A) == len(B)\n",
        "\n",
        "    num_rows, num_cols = A.shape;\n",
        "\n",
        "    if num_rows != 3:\n",
        "        raise Exception(\"matrix A is not 3xN, it is {}x{}\".format(num_rows, num_cols))\n",
        "\n",
        "    [num_rows, num_cols] = B.shape;\n",
        "    if num_rows != 3:\n",
        "        raise Exception(\"matrix B is not 3xN, it is {}x{}\".format(num_rows, num_cols))\n",
        "\n",
        "    # find mean column wise\n",
        "    centroid_A = np.mean(A, axis=1)\n",
        "    centroid_B = np.mean(B, axis=1)\n",
        "\n",
        "    #print (centroid_A)\n",
        "    #print (A - np.tile(centroid_A, (1, num_cols)))\n",
        "\n",
        "    # subtract mean\n",
        "    Am = A - np.tile(centroid_A, (1, num_cols))\n",
        "    Bm = B - np.tile(centroid_B, (1, num_cols))\n",
        "\n",
        "    H = Am * Bm.T\n",
        "\n",
        "    # sanity check\n",
        "    #if linalg.matrix_rank(H) < 3:\n",
        "    #    raise ValueError(\"rank of H = {}, expecting 3\".format(linalg.matrix_rank(H)))\n",
        "\n",
        "    # find rotation\n",
        "    U, S, Vt = np.linalg.svd(H)\n",
        "    R = Vt.T * U.T\n",
        "\n",
        "    # special reflection case\n",
        "    if np.linalg.det(R) < 0:\n",
        "        print(\"det(R) < R, reflection detected!, correcting for it ...\\n\");\n",
        "        Vt[2,:] *= -1\n",
        "        R = Vt.T * U.T\n",
        "\n",
        "    t = -R*centroid_A + centroid_B\n",
        "  \n",
        "\n",
        "    return R, t\n"
      ],
      "execution_count": null,
      "outputs": []
    },
    {
      "cell_type": "code",
      "metadata": {
        "id": "9AGD9zf_RQq1",
        "colab": {
          "base_uri": "https://localhost:8080/",
          "height": 248
        },
        "outputId": "a3b905ec-2c3d-413e-e789-2de3936d61af"
      },
      "source": [
        "from math import atan, degrees, sqrt\n",
        "\n",
        "# Recover R and t\n",
        "#print(np.matrix('1, 2, 0'))\n",
        "#ret_R, ret_t = rigid_transform_3D(np.matrix('1,2; 4,-6; 0,0'), np.matrix('-0.89442719,  0.4472136 ;0.83205029,0.5547002; 0,0'))\n",
        "\n",
        "ret_R, ret_t = rigid_transform_3D(Em.T,Fm.T)\n",
        "\n",
        "print(\"Recovered rotation\")\n",
        "print(ret_R)\n",
        "print(\"\")\n",
        "\n",
        "num = ret_R[1, 0]\n",
        "den = ret_R[0,0]\n",
        "\n",
        "print(\"Recovered rotation in degrees\") \n",
        "print('atan : ', num, den)\n",
        "rotation = atan(ret_R[0,1] / ret_R[1,1])\n",
        "print(degrees(rotation), \"degrees\")\n",
        "\n",
        "print(\"Recovered translation\")\n",
        "print(ret_t)\n",
        "print(\"\")"
      ],
      "execution_count": null,
      "outputs": [
        {
          "output_type": "stream",
          "text": [
            "Recovered rotation\n",
            "[[ 0.27541754  0.9613247   0.        ]\n",
            " [-0.9613247   0.27541754  0.        ]\n",
            " [ 0.          0.          1.        ]]\n",
            "\n",
            "Recovered rotation in degrees\n",
            "atan :  -0.96132469891888 0.2754175434654174\n",
            "74.01310143461882 degrees\n",
            "Recovered translation\n",
            "[[-191.18505101]\n",
            " [ -24.30738779]\n",
            " [   0.        ]]\n",
            "\n"
          ],
          "name": "stdout"
        }
      ]
    },
    {
      "cell_type": "code",
      "metadata": {
        "id": "0Q-j5gNFS4X9",
        "colab": {
          "base_uri": "https://localhost:8080/",
          "height": 53
        },
        "outputId": "87744ee5-ec81-46b5-d614-08531792e3f8"
      },
      "source": [
        "from math import atan, degrees, sqrt\n",
        "num = ret_R[1, 0]\n",
        "den = ret_R[0,0]\n",
        " \n",
        "print('element at row index 1 & column index 2 is : ', num, den)\n",
        "rotation = atan(ret_R[1,0] / ret_R[0,0])\n",
        "print(degrees(rotation))\n"
      ],
      "execution_count": null,
      "outputs": [
        {
          "output_type": "stream",
          "text": [
            "element at row index 1 & column index 2 is :  -0.96132469891888 0.2754175434654174\n",
            "-74.0131014346188\n"
          ],
          "name": "stdout"
        }
      ]
    },
    {
      "cell_type": "code",
      "metadata": {
        "id": "WhX9gV2iRF7V",
        "colab": {
          "base_uri": "https://localhost:8080/",
          "height": 675
        },
        "outputId": "c023f58e-a345-4d59-d38a-47da334b551c"
      },
      "source": [
        "# Test with random data\n",
        "\n",
        "# Random rotation and translation\n",
        "R = np.mat(np.random.rand(3,3))\n",
        "t = np.mat(np.random.rand(3,1))\n",
        "\n",
        "# make R a proper rotation matrix, force orthonormal\n",
        "U, S, Vt = np.linalg.svd(R)\n",
        "R = U*Vt\n",
        "\n",
        "# remove reflection\n",
        "if np.linalg.det(R) < 0:\n",
        "   Vt[2,:] *= -1\n",
        "   R = U*Vt\n",
        "\n",
        "# number of points\n",
        "n = 10\n",
        "\n",
        "A = np.mat(np.random.rand(3, n));\n",
        "B = R*A + np.tile(t, (1, n))\n",
        "\n",
        "# Recover R and t\n",
        "ret_R, ret_t = rigid_transform_3D(A, B)\n",
        "\n",
        "# Compare the recovered R and t with the original\n",
        "B2 = (ret_R*A) + np.tile(ret_t, (1, n))\n",
        "\n",
        "# Find the root mean squared error\n",
        "err = B2 - B\n",
        "err = np.multiply(err, err)\n",
        "err = np.sum(err)\n",
        "rmse = sqrt(err/n);\n",
        "\n",
        "print(\"Points A\")\n",
        "print(A)\n",
        "print(\"\")\n",
        "\n",
        "print(\"Points B\")\n",
        "print(B)\n",
        "print(\"\")\n",
        "\n",
        "print(\"Ground truth rotation\")\n",
        "print(R)\n",
        "\n",
        "print(\"Recovered rotation\")\n",
        "print(ret_R)\n",
        "print(\"\")\n",
        "\n",
        "print(\"Ground truth translation\")\n",
        "print(t)\n",
        "\n",
        "print(\"Recovered translation\")\n",
        "print(ret_t)\n",
        "print(\"\")\n",
        "\n",
        "print(\"RMSE:\", rmse)\n",
        "\n",
        "if rmse < 1e-5:\n",
        "    print(\"Everything looks good!\\n\");\n",
        "else:\n",
        "    print(\"Hmm something doesn't look right ...\\n\");"
      ],
      "execution_count": null,
      "outputs": [
        {
          "output_type": "stream",
          "text": [
            "Points A\n",
            "[[0.15586773 0.27847628 0.34399622 0.91560205 0.78469802 0.59280246\n",
            "  0.71034907 0.55981881 0.34572286 0.45629201]\n",
            " [0.8946508  0.06777365 0.87459193 0.25536619 0.76185706 0.80224697\n",
            "  0.86002227 0.41452214 0.41541903 0.44127808]\n",
            " [0.06721259 0.1232117  0.07427265 0.37287792 0.52015712 0.27226395\n",
            "  0.53301426 0.72256516 0.69965825 0.58117602]]\n",
            "\n",
            "Points B\n",
            "[[1.10333261 1.21571934 1.28571386 1.78371789 1.62155851 1.48685457\n",
            "  1.5456369  1.36054481 1.15628936 1.28948047]\n",
            " [1.64892381 0.83739944 1.63540614 1.07049501 1.58605517 1.59294206\n",
            "  1.68277347 1.25674811 1.2486964  1.26454766]\n",
            " [0.40089793 0.57608924 0.44987632 0.93175416 0.98886894 0.70301286\n",
            "  0.97434452 1.17757488 1.1099178  1.01536024]]\n",
            "\n",
            "Ground truth rotation\n",
            "[[ 0.9768801  -0.00553987 -0.21371613]\n",
            " [ 0.02990109  0.9933788   0.11092557]\n",
            " [ 0.21168656 -0.11475132  0.97057763]]\n",
            "Recovered rotation\n",
            "[[ 0.9768801  -0.00553987 -0.21371613]\n",
            " [ 0.02990109  0.9933788   0.11092557]\n",
            " [ 0.21168656 -0.11475132  0.97057763]]\n",
            "\n",
            "Ground truth translation\n",
            "[[0.97038919]\n",
            " [0.74808046]\n",
            " [0.40533015]]\n",
            "Recovered translation\n",
            "[[0.97038919]\n",
            " [0.74808046]\n",
            " [0.40533015]]\n",
            "\n",
            "RMSE: 4.406061034464155e-16\n",
            "Everything looks good!\n",
            "\n"
          ],
          "name": "stdout"
        }
      ]
    },
    {
      "cell_type": "markdown",
      "metadata": {
        "id": "dd7wNPivTlnI"
      },
      "source": [
        "https://pages.mtu.edu/~shene/COURSES/cs3621/NOTES/geometry/geo-tran.html"
      ]
    },
    {
      "cell_type": "code",
      "metadata": {
        "id": "OlE1o3bl7Bsx",
        "colab": {
          "base_uri": "https://localhost:8080/",
          "height": 34
        },
        "outputId": "5158c2b2-f21b-4452-d4ee-697d51be9c29"
      },
      "source": [
        "import numpy as np\n",
        "\n",
        "def perpendicular( a ) :\n",
        "    b = np.empty_like(a)\n",
        "    b[0] = -a[1]\n",
        "    b[1] = a[0]\n",
        "    return b\n",
        "\n",
        "def normalize(a):\n",
        "    a = np.array(a)\n",
        "    return a/np.linalg.norm(a)\n",
        "\n",
        "a = [458.8, 82.172]\n",
        "print (perpendicular(normalize(a)))\n",
        "  "
      ],
      "execution_count": null,
      "outputs": [
        {
          "output_type": "stream",
          "text": [
            "[-0.17629674  0.98433707]\n"
          ],
          "name": "stdout"
        }
      ]
    },
    {
      "cell_type": "code",
      "metadata": {
        "id": "wUJZRHTAUGL-",
        "colab": {
          "base_uri": "https://localhost:8080/",
          "height": 70
        },
        "outputId": "9b8d80ff-6918-485a-88d2-a044810b4468"
      },
      "source": [
        "A = np.array([\n",
        "[50.93, 204.53, 0],\n",
        "[87.188, 1279.8, 0],\n",
        "[237.19, 600.8, 0],\n",
        "[378.9, 1601.8, 0],\n",
        "[458.8, 82.172, 0]]\n",
        ")\n",
        "\n",
        "B = np.array([\n",
        "[54.005, 204.5, 0],\n",
        "[90.51, 1282.2, 0],\n",
        "[240.72, 600.69, 0],\n",
        "[382.59, 1601.9, 0],\n",
        "[462.01, 81.683, 0]]\n",
        ")\n",
        "\n",
        "C = np.array([\n",
        " [-0.97036813, 0.2416313, 0 ], \n",
        " [-0.99768745,  0.06796872, 0],\n",
        " [-0.93013825 , 0.36720954, 0],\n",
        " [-0.97314479 , 0.23019388, 0], \n",
        " [-0.17629674 , 0.98433707,0]  ])\n",
        "\n",
        "Am = np.matrix(A.T)\n",
        "Bm = np.matrix(B.T)\n",
        "\n",
        "print(Am)"
      ],
      "execution_count": null,
      "outputs": [
        {
          "output_type": "stream",
          "text": [
            "[[  50.93    87.188  237.19   378.9    458.8  ]\n",
            " [ 204.53  1279.8    600.8   1601.8     82.172]\n",
            " [   0.       0.       0.       0.       0.   ]]\n"
          ],
          "name": "stdout"
        }
      ]
    },
    {
      "cell_type": "code",
      "metadata": {
        "id": "K452rwhfmeXV",
        "colab": {
          "base_uri": "https://localhost:8080/",
          "height": 283
        },
        "outputId": "2e14cf72-1c61-48fb-fc80-b19731fa6c68"
      },
      "source": [
        "import matplotlib.pylab as plt\n",
        "plt.plot(A[:,0],A[:,1],'r+')\n",
        "plt.plot(B[:,0],B[:,1],'b+')"
      ],
      "execution_count": null,
      "outputs": [
        {
          "output_type": "execute_result",
          "data": {
            "text/plain": [
              "[<matplotlib.lines.Line2D at 0x7f4d7cbcb6d8>]"
            ]
          },
          "metadata": {
            "tags": []
          },
          "execution_count": 73
        },
        {
          "output_type": "display_data",
          "data": {
            "image/png": "[encoded data removed]",
            "text/plain": [
              "<Figure size 432x288 with 1 Axes>"
            ]
          },
          "metadata": {
            "tags": []
          }
        }
      ]
    }
  ]
}